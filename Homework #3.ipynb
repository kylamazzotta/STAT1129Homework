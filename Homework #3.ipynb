{
 "cells": [
  {
   "cell_type": "markdown",
   "id": "744a8281",
   "metadata": {},
   "source": [
    "# Question #1.1"
   ]
  },
  {
   "cell_type": "markdown",
   "id": "412b9a55",
   "metadata": {},
   "source": [
    "Define a function, when call the function, only need to pass student’s name, your function will\n",
    "return this student’s grade. If the student name does not exit, print you cannot find this student’s name."
   ]
  },
  {
   "cell_type": "code",
   "execution_count": 114,
   "id": "853bc5a6",
   "metadata": {},
   "outputs": [
    {
     "name": "stdout",
     "output_type": "stream",
     "text": [
      "Bard student name does not exist\n"
     ]
    }
   ],
   "source": [
    "marks = {'Andy':88, 'Amy':66, 'James':90, 'Jules': 55, 'Arthur': 77}\n",
    "def my_function(name):\n",
    "    for k in marks:\n",
    "        if name == k in marks:\n",
    "            return marks[name]\n",
    "    else:\n",
    "        print(name + \" student name does not exist\")\n",
    "my_function(\"Amy\")"
   ]
  },
  {
   "cell_type": "code",
   "execution_count": null,
   "id": "cebc5ae8",
   "metadata": {},
   "outputs": [],
   "source": [
    "my_funct"
   ]
  },
  {
   "cell_type": "markdown",
   "id": "460d7423",
   "metadata": {},
   "source": [
    "# Question #1.2"
   ]
  },
  {
   "cell_type": "markdown",
   "id": "20792941",
   "metadata": {},
   "source": [
    "Define another function that will return the average grade for all the students."
   ]
  },
  {
   "cell_type": "code",
   "execution_count": 91,
   "id": "b37e80c5",
   "metadata": {},
   "outputs": [
    {
     "data": {
      "text/plain": [
       "75.2"
      ]
     },
     "execution_count": 91,
     "metadata": {},
     "output_type": "execute_result"
    }
   ],
   "source": [
    "import statistics\n",
    "marks = {'Andy':88, 'Amy':66, 'James':90, 'Jules': 55, 'Arthur': 77}\n",
    "def averagefunction(marks):\n",
    "    res = statistics.mean(list(marks.values()))\n",
    "    return res\n",
    "averagefunction(marks)"
   ]
  },
  {
   "cell_type": "markdown",
   "id": "e5423c7d",
   "metadata": {},
   "source": [
    "# Question #2"
   ]
  },
  {
   "cell_type": "markdown",
   "id": "95efbf17",
   "metadata": {},
   "source": [
    "Define a function. Using While Loop. As long as n is less than num, print out n and square of n.\n",
    "Otherwise, print out “greater than” the num value. When you call your function, specify the num values\n",
    "as 8."
   ]
  },
  {
   "cell_type": "code",
   "execution_count": 13,
   "id": "3f008d01",
   "metadata": {},
   "outputs": [
    {
     "name": "stdout",
     "output_type": "stream",
     "text": [
      "0\n",
      "1\n",
      "2\n",
      "5\n",
      "greater than 8\n"
     ]
    }
   ],
   "source": [
    "def a_function(n):\n",
    "    n=0\n",
    "    num=8\n",
    "    while n < num:\n",
    "        print(n)\n",
    "        n=1+n**2 \n",
    "    else:\n",
    "        print('greater than', num)\n",
    "\n",
    "a_function(1)"
   ]
  },
  {
   "cell_type": "markdown",
   "id": "a7f3bb51",
   "metadata": {},
   "source": [
    "# Question #3"
   ]
  },
  {
   "cell_type": "markdown",
   "id": "213da726",
   "metadata": {},
   "source": [
    "Define a function. add all the integers from 1 to num, print out the sum. Using while loop."
   ]
  },
  {
   "cell_type": "code",
   "execution_count": 15,
   "id": "a1c566f0",
   "metadata": {},
   "outputs": [
    {
     "name": "stdout",
     "output_type": "stream",
     "text": [
      "120\n"
     ]
    }
   ],
   "source": [
    "def sumfunct(num):\n",
    "    n = 1\n",
    "    sum = 0\n",
    "    while n <= num:\n",
    "        sum = sum + n\n",
    "        n = n + 1\n",
    "    print(sum)\n",
    "sumfunct(15)"
   ]
  },
  {
   "cell_type": "markdown",
   "id": "7d5ef529",
   "metadata": {},
   "source": [
    "# Question #4"
   ]
  },
  {
   "cell_type": "markdown",
   "id": "1db83307",
   "metadata": {},
   "source": [
    "Define a function. add all the integers from 1 to num, print out the sum at each step/iteration. Using for\n",
    "loop. "
   ]
  },
  {
   "cell_type": "code",
   "execution_count": 21,
   "id": "7a0fc007",
   "metadata": {},
   "outputs": [
    {
     "name": "stdout",
     "output_type": "stream",
     "text": [
      "0\n",
      "1\n",
      "3\n",
      "6\n",
      "10\n",
      "15\n",
      "21\n"
     ]
    }
   ],
   "source": [
    "def loopsumfunct(num):\n",
    "    n = 1\n",
    "    sum = 0\n",
    "    for n in range(num):\n",
    "        sum = sum + n\n",
    "        print(sum)\n",
    "loopsumfunct(7)"
   ]
  },
  {
   "cell_type": "markdown",
   "id": "9ce4841d",
   "metadata": {},
   "source": [
    "# Question #5"
   ]
  },
  {
   "cell_type": "markdown",
   "id": "645e6c47",
   "metadata": {},
   "source": [
    "Define a function. For a given list, range (1, 100), calculate its mean, sum, and standard deviation. You\n",
    "can use built in function and package. "
   ]
  },
  {
   "cell_type": "code",
   "execution_count": 31,
   "id": "2af97240",
   "metadata": {},
   "outputs": [
    {
     "name": "stdout",
     "output_type": "stream",
     "text": [
      "mean is 50.0\n",
      "sum is 4950\n",
      "standard deviation is 28.722813232690143\n"
     ]
    }
   ],
   "source": [
    "import statistics\n",
    "my_list = range(1, 100)\n",
    "def functlist(my_list):\n",
    "    print(\"mean is\", sum(my_list)/len(my_list))\n",
    "    print(\"sum is\", sum(my_list))\n",
    "    print(\"standard deviation is\", statistics.stdev(my_list))\n",
    "    \n",
    "functlist(my_list)"
   ]
  },
  {
   "cell_type": "markdown",
   "id": "6c6a5b06",
   "metadata": {},
   "source": [
    "# Question #6"
   ]
  },
  {
   "cell_type": "markdown",
   "id": "2ce08e29",
   "metadata": {},
   "source": [
    "Define a minimal function yourself, with 4 arguments. Your function will return the minimal value of\n",
    "the 4 arguments. Do not use the python built-in functions. Print out the returned value"
   ]
  },
  {
   "cell_type": "code",
   "execution_count": 34,
   "id": "cc100aa6",
   "metadata": {},
   "outputs": [
    {
     "data": {
      "text/plain": [
       "0.0001"
      ]
     },
     "execution_count": 34,
     "metadata": {},
     "output_type": "execute_result"
    }
   ],
   "source": [
    "def minimalfunction(value1, value2, value3, value4):\n",
    "    min_value = value1\n",
    "    if value2 < min_value:\n",
    "        min_value = value2\n",
    "    if value3 < min_value:\n",
    "        min_value = value3\n",
    "    if value4 < min_value:\n",
    "        min_value = value4\n",
    "    return min_value\n",
    "\n",
    "minimalfunction(46, 88, .0001, 522)"
   ]
  },
  {
   "cell_type": "markdown",
   "id": "92c0685c",
   "metadata": {},
   "source": [
    "# Question #7"
   ]
  },
  {
   "cell_type": "markdown",
   "id": "079f33e8",
   "metadata": {},
   "source": [
    "Write a function that concatenates 3 strings and return the concatenated string. print out this returned\n",
    "string.\n",
    "This function could have 3 parameters that represent 3 strings, or could be a list containing 3 strings. "
   ]
  },
  {
   "cell_type": "code",
   "execution_count": 80,
   "id": "b262d741",
   "metadata": {},
   "outputs": [
    {
     "data": {
      "text/plain": [
       "'Good morning! I hope your day is going well! This question was a little tricky for me.'"
      ]
     },
     "execution_count": 80,
     "metadata": {},
     "output_type": "execute_result"
    }
   ],
   "source": [
    "def concatenatefunction(x, y, z):\n",
    "    return(x + y + z)\n",
    "\n",
    "concatenatefunction('Good morning! ', 'I hope your day is going well! ', 'This question was a little tricky for me.')"
   ]
  }
 ],
 "metadata": {
  "kernelspec": {
   "display_name": "Python 3 (ipykernel)",
   "language": "python",
   "name": "python3"
  },
  "language_info": {
   "codemirror_mode": {
    "name": "ipython",
    "version": 3
   },
   "file_extension": ".py",
   "mimetype": "text/x-python",
   "name": "python",
   "nbconvert_exporter": "python",
   "pygments_lexer": "ipython3",
   "version": "3.9.12"
  }
 },
 "nbformat": 4,
 "nbformat_minor": 5
}
