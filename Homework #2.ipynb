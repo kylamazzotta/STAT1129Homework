{
 "cells": [
  {
   "cell_type": "markdown",
   "id": "de194ed3",
   "metadata": {},
   "source": [
    "# Question #1"
   ]
  },
  {
   "cell_type": "markdown",
   "id": "13e95219",
   "metadata": {},
   "source": [
    "Using While Loop. As long as n is less than 10, print out n. However, when n equals to 5, stop the loop.\n",
    "(Initialize n=0)."
   ]
  },
  {
   "cell_type": "code",
   "execution_count": 9,
   "id": "f010ed15",
   "metadata": {},
   "outputs": [
    {
     "name": "stdout",
     "output_type": "stream",
     "text": [
      "0\n",
      "1\n",
      "2\n",
      "3\n",
      "4\n"
     ]
    }
   ],
   "source": [
    "n = 0\n",
    "while n < 10:\n",
    "    if n == 5:\n",
    "        break\n",
    "    print(n)\n",
    "    n = n + 1\n",
    "    \n"
   ]
  },
  {
   "cell_type": "markdown",
   "id": "17809ffa",
   "metadata": {},
   "source": [
    "# Question #2"
   ]
  },
  {
   "cell_type": "markdown",
   "id": "66e4050b",
   "metadata": {},
   "source": [
    "Using while loop. Initialize n=0. While n is < 5, print out n. Otherwise, print out $n “is not less than 5”. "
   ]
  },
  {
   "cell_type": "code",
   "execution_count": 3,
   "id": "3540a9f7",
   "metadata": {},
   "outputs": [
    {
     "name": "stdout",
     "output_type": "stream",
     "text": [
      "0\n",
      "1\n",
      "2\n",
      "3\n",
      "4\n",
      "5 is not less than 5\n"
     ]
    }
   ],
   "source": [
    "n = 0\n",
    "while n < 5:\n",
    "    print (n)\n",
    "    n = n + 1\n",
    "else:\n",
    "    print (n, \"is not less than 5\")"
   ]
  },
  {
   "cell_type": "markdown",
   "id": "9a087dff",
   "metadata": {},
   "source": [
    "# Question #3"
   ]
  },
  {
   "cell_type": "markdown",
   "id": "83495f1d",
   "metadata": {},
   "source": [
    "Create your favorite fruit list, using For Loop, print out all the fruits in your list. However, when one\n",
    "fruit name equals to “apple”, stop the loop. "
   ]
  },
  {
   "cell_type": "code",
   "execution_count": 11,
   "id": "79eedffc",
   "metadata": {},
   "outputs": [
    {
     "name": "stdout",
     "output_type": "stream",
     "text": [
      "I like kiwi\n",
      "I like mango\n",
      "I like watermelon\n",
      "I like strawberry\n",
      "apple is really a fruit?\n"
     ]
    }
   ],
   "source": [
    "fav_fruits = [\"kiwi\",\"mango\",\"watermelon\",\"strawberry\",\"apple\",\"blueberry\",\"raspberry\"]\n",
    "for fruit in fav_fruits:\n",
    "    if fruit == \"apple\":\n",
    "        print(fruit, \"is really a fruit?\")\n",
    "        break\n",
    "    print(\"I like\", fruit)"
   ]
  },
  {
   "cell_type": "markdown",
   "id": "32996349",
   "metadata": {},
   "source": [
    "# Question #4"
   ]
  },
  {
   "cell_type": "markdown",
   "id": "41ddc6ed",
   "metadata": {},
   "source": [
    "Add all the integers from 1 to 30, print out the sum. Using while loop. "
   ]
  },
  {
   "cell_type": "code",
   "execution_count": 16,
   "id": "8e690aa7",
   "metadata": {},
   "outputs": [
    {
     "name": "stdout",
     "output_type": "stream",
     "text": [
      "The sum is 465\n"
     ]
    }
   ],
   "source": [
    "n = 30\n",
    "sum = 0\n",
    "i = 1\n",
    "while i <= n:\n",
    "    sum = sum + i\n",
    "    i = i + 1\n",
    "print(\"The sum is\", sum)"
   ]
  },
  {
   "cell_type": "markdown",
   "id": "bd82f7e2",
   "metadata": {},
   "source": [
    "# Question #5"
   ]
  },
  {
   "cell_type": "markdown",
   "id": "ccecd246",
   "metadata": {},
   "source": [
    "Using if…elif…else statement, to help grade students’ score. You can define grade yourself, for\n",
    "example, grade = 55 "
   ]
  },
  {
   "cell_type": "code",
   "execution_count": 20,
   "id": "b11efd80",
   "metadata": {},
   "outputs": [
    {
     "name": "stdout",
     "output_type": "stream",
     "text": [
      "B\n"
     ]
    }
   ],
   "source": [
    "grade = 84\n",
    "if grade >= 90:\n",
    "    print(\"A\")\n",
    "elif 80 <= grade < 90:\n",
    "    print (\"B\")\n",
    "elif 70 <= grade < 80:\n",
    "    print(\"C\")\n",
    "elif 60 <= grade < 70:\n",
    "    print(\"D\")\n",
    "else:\n",
    "    print(\"F\")"
   ]
  },
  {
   "cell_type": "markdown",
   "id": "9406d3ca",
   "metadata": {},
   "source": [
    "# Question #6"
   ]
  },
  {
   "cell_type": "markdown",
   "id": "b3a680fe",
   "metadata": {},
   "source": [
    "Define a dictionary, composed with students name and their grade."
   ]
  },
  {
   "cell_type": "code",
   "execution_count": 2,
   "id": "84f56550",
   "metadata": {},
   "outputs": [],
   "source": [
    "marks = {'Andy':88,'Amy':66,'James':90,'Jules':55,'Arthur':77}"
   ]
  },
  {
   "cell_type": "markdown",
   "id": "96902fcc",
   "metadata": {},
   "source": [
    "# Question #6.1"
   ]
  },
  {
   "cell_type": "markdown",
   "id": "1447810a",
   "metadata": {},
   "source": [
    "Using for loop, print out all the students name and their grade. "
   ]
  },
  {
   "cell_type": "code",
   "execution_count": 3,
   "id": "50a19f60",
   "metadata": {},
   "outputs": [
    {
     "name": "stdout",
     "output_type": "stream",
     "text": [
      "Andy has a grade of 88\n",
      "Amy has a grade of 66\n",
      "James has a grade of 90\n",
      "Jules has a grade of 55\n",
      "Arthur has a grade of 77\n"
     ]
    }
   ],
   "source": [
    "for name, score in marks.items():\n",
    "    print(name,\"has a grade of\", score)"
   ]
  },
  {
   "cell_type": "markdown",
   "id": "808f5369",
   "metadata": {},
   "source": [
    "# Question #6.2"
   ]
  },
  {
   "cell_type": "markdown",
   "id": "968d64c2",
   "metadata": {},
   "source": [
    "Of this dictionary, calculate all the student’s mean grade, maximal grade, and minimal grade. "
   ]
  },
  {
   "cell_type": "code",
   "execution_count": 14,
   "id": "31f1ccbb",
   "metadata": {},
   "outputs": [
    {
     "name": "stdout",
     "output_type": "stream",
     "text": [
      "The sum of all of the grades is 376\n",
      "There are 5 grades\n",
      "The mean grade is 75.2\n"
     ]
    }
   ],
   "source": [
    "sum_grade = sum(marks.values())\n",
    "print(\"The sum of all of the grades is\", sum_grade)\n",
    "length_grade = len(marks.values())\n",
    "print(\"There are\", length_grade, \"grades\")\n",
    "mean_grade = sum_grade / length_grade\n",
    "print(\"The mean grade is\", mean_grade)"
   ]
  },
  {
   "cell_type": "code",
   "execution_count": 5,
   "id": "f919c5cd",
   "metadata": {},
   "outputs": [
    {
     "name": "stdout",
     "output_type": "stream",
     "text": [
      "The maximal grade is 90\n"
     ]
    }
   ],
   "source": [
    "maximal_grade = max(marks.values())\n",
    "print(\"The maximal grade is\", maximal_grade)"
   ]
  },
  {
   "cell_type": "code",
   "execution_count": 6,
   "id": "65597366",
   "metadata": {},
   "outputs": [
    {
     "name": "stdout",
     "output_type": "stream",
     "text": [
      "The minimal grade is 55\n"
     ]
    }
   ],
   "source": [
    "minimal_grade = min(marks.values())\n",
    "print(\"The minimal grade is\", minimal_grade)"
   ]
  },
  {
   "cell_type": "markdown",
   "id": "57bae230",
   "metadata": {},
   "source": [
    "# Question #6.3"
   ]
  },
  {
   "cell_type": "markdown",
   "id": "9608c9be",
   "metadata": {},
   "source": [
    "Using for loop or while loop, for all the keys in the dictionary, print out key. However, if ‘J’ appears,\n",
    "stop the loop."
   ]
  },
  {
   "cell_type": "code",
   "execution_count": 38,
   "id": "1fa580f0",
   "metadata": {},
   "outputs": [
    {
     "name": "stdout",
     "output_type": "stream",
     "text": [
      "Andy\n",
      "Amy\n"
     ]
    }
   ],
   "source": [
    "marks = {'Andy':88,'Amy':66,'James':90,'Jules':55,'Arthur':77}\n",
    "for student in marks:\n",
    "    if \"J\" in student:\n",
    "        break\n",
    "    print(student)"
   ]
  },
  {
   "cell_type": "markdown",
   "id": "19af2540",
   "metadata": {},
   "source": [
    "# Question #6.4"
   ]
  },
  {
   "cell_type": "markdown",
   "id": "6964326c",
   "metadata": {},
   "source": [
    "Using for loop or while loop, for all the keys in the dictionary, print out key. However, if ‘J’ appears,\n",
    "skip this key, and continue the loop."
   ]
  },
  {
   "cell_type": "code",
   "execution_count": 39,
   "id": "3b7efff3",
   "metadata": {},
   "outputs": [
    {
     "name": "stdout",
     "output_type": "stream",
     "text": [
      "Andy\n",
      "Amy\n",
      "Arthur\n"
     ]
    }
   ],
   "source": [
    "marks = {'Andy':88,'Amy':66,'James':90,'Jules':55,'Arthur':77}\n",
    "for student in marks:\n",
    "    if \"J\" in student:\n",
    "        continue\n",
    "    print(student)"
   ]
  }
 ],
 "metadata": {
  "kernelspec": {
   "display_name": "Python 3 (ipykernel)",
   "language": "python",
   "name": "python3"
  },
  "language_info": {
   "codemirror_mode": {
    "name": "ipython",
    "version": 3
   },
   "file_extension": ".py",
   "mimetype": "text/x-python",
   "name": "python",
   "nbconvert_exporter": "python",
   "pygments_lexer": "ipython3",
   "version": "3.9.12"
  }
 },
 "nbformat": 4,
 "nbformat_minor": 5
}
