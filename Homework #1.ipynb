{
 "cells": [
  {
   "cell_type": "code",
   "execution_count": 22,
   "id": "8bb9e244",
   "metadata": {},
   "outputs": [
    {
     "name": "stdout",
     "output_type": "stream",
     "text": [
      "[30, 35, 40, 45, 50, 55, 60]\n",
      "[60, 55, 50, 45, 40, 35, 30]\n",
      "[65, 60, 55, 50, 45, 40, 35, 30]\n"
     ]
    }
   ],
   "source": [
    "list_of_numbers=list(range(30,65,5))\n",
    "print(list_of_numbers)\n",
    "list_of_numbers.sort(reverse=True)\n",
    "print(list_of_numbers)\n",
    "list_of_numbers.insert(0, 65)\n",
    "print(list_of_numbers)"
   ]
  },
  {
   "cell_type": "code",
   "execution_count": 34,
   "id": "0d02480b",
   "metadata": {},
   "outputs": [
    {
     "name": "stdout",
     "output_type": "stream",
     "text": [
      "[]\n",
      "[0, 1, 2, 3, 4, 5, 6, 7, 8, 9, 10, 11, 12, 13, 14, 15, 16, 17, 18, 19, 20]\n",
      "[1, 2, 3, 4, 5, 6, 7, 8, 9, 10, 11, 12, 13, 14, 15, 16, 17, 18, 19, 20]\n",
      "20\n",
      "20\n",
      "1\n",
      "210\n"
     ]
    }
   ],
   "source": [
    "empty_list=[]\n",
    "print(empty_list)\n",
    "for number in range (0,21):\n",
    "    empty_list += [number]\n",
    "print(empty_list)\n",
    "del empty_list[0]\n",
    "print(empty_list)\n",
    "print(len(empty_list))\n",
    "print(max(empty_list))\n",
    "print(min(empty_list))\n",
    "print(sum(empty_list))"
   ]
  },
  {
   "cell_type": "code",
   "execution_count": 35,
   "id": "ba9baeb6",
   "metadata": {},
   "outputs": [
    {
     "name": "stdout",
     "output_type": "stream",
     "text": [
      "{'Sunny': 'play', 'Rainy': 'watch TV', 'Cloudy': 'walk'}\n"
     ]
    }
   ],
   "source": [
    "weather = {'Sunny':'play','Rainy':'watch TV','Cloudy':'walk'}\n",
    "print(weather)\n"
   ]
  },
  {
   "cell_type": "code",
   "execution_count": 36,
   "id": "a9ac58bc",
   "metadata": {},
   "outputs": [
    {
     "name": "stdout",
     "output_type": "stream",
     "text": [
      "{'Sunny': 'play', 'Rainy': 'watch TV', 'Cloudy': 'walk', 'Snowy': 'ski'}\n"
     ]
    }
   ],
   "source": [
    "weather.update({'Snowy':'ski'})\n",
    "print(weather)"
   ]
  },
  {
   "cell_type": "code",
   "execution_count": null,
   "id": "0df9df2e",
   "metadata": {},
   "outputs": [],
   "source": []
  }
 ],
 "metadata": {
  "kernelspec": {
   "display_name": "Python 3 (ipykernel)",
   "language": "python",
   "name": "python3"
  },
  "language_info": {
   "codemirror_mode": {
    "name": "ipython",
    "version": 3
   },
   "file_extension": ".py",
   "mimetype": "text/x-python",
   "name": "python",
   "nbconvert_exporter": "python",
   "pygments_lexer": "ipython3",
   "version": "3.9.12"
  }
 },
 "nbformat": 4,
 "nbformat_minor": 5
}
